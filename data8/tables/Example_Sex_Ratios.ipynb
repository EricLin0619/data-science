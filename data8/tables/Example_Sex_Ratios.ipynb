{
 "cells": [
  {
   "cell_type": "code",
   "execution_count": 1,
   "metadata": {
    "tags": [
     "remove-input"
    ]
   },
   "outputs": [],
   "source": [
    "from datascience import *\n",
    "import numpy as np\n",
    "path_data = '../../assets/data/'\n",
    "import matplotlib\n",
    "matplotlib.use('Agg')\n",
    "%matplotlib inline\n",
    "import matplotlib.pyplot as plots\n",
    "plots.style.use('fivethirtyeight')"
   ]
  },
  {
   "cell_type": "code",
   "execution_count": 2,
   "metadata": {
    "tags": [
     "remove-input"
    ]
   },
   "outputs": [],
   "source": [
    "# As of August 2021, this census file is online here: \n",
    "data = 'http://www2.census.gov/programs-surveys/popest/technical-documentation/file-layouts/2010-2019/nc-est2019-agesex-res.csv'\n",
    "\n",
    "# A local copy can be accessed here in case census.gov moves the file:\n",
    "# data = path_data + 'nc-est2019-agesex-res.csv'\n",
    "\n",
    "full_census_table = Table.read_table(data)\n",
    "#full_census_table\n",
    "\n",
    "partial_census_table = full_census_table.select('SEX', 'AGE', 'POPESTIMATE2014', 'POPESTIMATE2019')\n",
    "#partial_census_table\n",
    "\n",
    "us_pop = partial_census_table.relabeled('POPESTIMATE2014', '2014').relabeled('POPESTIMATE2019', '2019')"
   ]
  },
  {
   "cell_type": "markdown",
   "metadata": {},
   "source": [
    "# Example: Sex Ratios\n",
    "\n",
    "In this section we will continue using the `us_pop` table from the previous section. But this time we will focus on population trends in relation to the `SEX` column."
   ]
  },
  {
   "cell_type": "code",
   "execution_count": 3,
   "metadata": {},
   "outputs": [
    {
     "data": {
      "text/html": [
       "<table border=\"1\" class=\"dataframe\">\n",
       "    <thead>\n",
       "        <tr>\n",
       "            <th>SEX</th> <th>AGE</th> <th>2014</th> <th>2019</th>\n",
       "        </tr>\n",
       "    </thead>\n",
       "    <tbody>\n",
       "        <tr>\n",
       "            <td>0   </td> <td>0   </td> <td>3954787</td> <td>3783052</td>\n",
       "        </tr>\n",
       "        <tr>\n",
       "            <td>0   </td> <td>1   </td> <td>3948891</td> <td>3829599</td>\n",
       "        </tr>\n",
       "        <tr>\n",
       "            <td>0   </td> <td>2   </td> <td>3958711</td> <td>3922044</td>\n",
       "        </tr>\n",
       "        <tr>\n",
       "            <td>0   </td> <td>3   </td> <td>4005928</td> <td>3998665</td>\n",
       "        </tr>\n",
       "        <tr>\n",
       "            <td>0   </td> <td>4   </td> <td>4004032</td> <td>4043323</td>\n",
       "        </tr>\n",
       "        <tr>\n",
       "            <td>0   </td> <td>5   </td> <td>4004576</td> <td>4028281</td>\n",
       "        </tr>\n",
       "        <tr>\n",
       "            <td>0   </td> <td>6   </td> <td>4133372</td> <td>4017227</td>\n",
       "        </tr>\n",
       "        <tr>\n",
       "            <td>0   </td> <td>7   </td> <td>4152666</td> <td>4022319</td>\n",
       "        </tr>\n",
       "        <tr>\n",
       "            <td>0   </td> <td>8   </td> <td>4118349</td> <td>4066194</td>\n",
       "        </tr>\n",
       "        <tr>\n",
       "            <td>0   </td> <td>9   </td> <td>4106068</td> <td>4061874</td>\n",
       "        </tr>\n",
       "    </tbody>\n",
       "</table>\n",
       "<p>... (296 rows omitted)</p>"
      ],
      "text/plain": [
       "SEX  | AGE  | 2014    | 2019\n",
       "0    | 0    | 3954787 | 3783052\n",
       "0    | 1    | 3948891 | 3829599\n",
       "0    | 2    | 3958711 | 3922044\n",
       "0    | 3    | 4005928 | 3998665\n",
       "0    | 4    | 4004032 | 4043323\n",
       "0    | 5    | 4004576 | 4028281\n",
       "0    | 6    | 4133372 | 4017227\n",
       "0    | 7    | 4152666 | 4022319\n",
       "0    | 8    | 4118349 | 4066194\n",
       "0    | 9    | 4106068 | 4061874\n",
       "... (296 rows omitted)"
      ]
     },
     "execution_count": 3,
     "metadata": {},
     "output_type": "execute_result"
    }
   ],
   "source": [
    "us_pop"
   ]
  },
  {
   "cell_type": "markdown",
   "metadata": {},
   "source": [
    "## The Code Used in the `SEX` Column\n",
    "\n",
    "The contents of the `AGE`, `2014`, and `2019` columns are straightforward to understand. The `AGE` column contains ages in completed years. The special value `999` represents the entire population regardless of age, and `100` represents \"100 or more\". The `2014` and `2019` columns contain estimates of the US population in each of the two years.\n",
    "\n",
    "The SEX column, however, is more difficult to interpret. \n",
    " \n",
    "The Census form asks respondents to provide the sex of each household member by checking one of two boxes labeled Male and Female. The `SEX` column contains numeric codes: `1` for male, `2` for female, and `0` for the total.\n",
    "\n",
    "This question has been asked in essentially the same way since 1790. But since then there has been considerable [research](https://pubmed.ncbi.nlm.nih.gov/11534012/) on whether the sex of human beings lends itself to simple binary categorization. For example, nonbinary people do not identify exclusively as male or female. A [study](https://williamsinstitute.law.ucla.edu/publications/nonbinary-lgbtq-adults-us/) by the Williams Institute at the UCLA School of Law in 2021 estimated that at least 1.2 million individuals in the United States identify as nonbinary. \n",
    "\n",
    "By continuing to use the historical form of the question, the Census fails to reflect the complexity of sex classification. The [explanation](https://www2.census.gov/programs-surveys/decennial/2020/partners/outreach-materials/handouts/why-we-ask-the-sex-question.pdf) provided in the 2020 Census and reproduced in the quotation below does not include instructions for those who do not identify as one of Male or Female.\n",
    "\n",
    "> **Responding to the sex question is easy.**\n",
    ">\n",
    ">A question on sex has been included since the first census in 1790. All 2020 Census questions that involve personal characteristics are based on self-identification. When you complete your census, select the box for the biological sex you identify with.\n",
    ">\n",
    "\n",
    "Regardless of the opinion expressed above, responding to this question isn’t easy for everyone. Difficulties with answering the question can lead to non-response or inaccurate responses. This can reduce the accuracy of Census data for informing policy decisions and allocating resources.\n",
    "\n",
    "Before the 2020 Census, the Census Bureau considered revising this question or including broader questions about sexual orientation and gender identity. In the end the Bureau decided [not to change](https://www.census.gov/newsroom/blogs/director/2017/03/planned_subjects_2020.html) the planned Census. \n",
    "\n",
    "However, Census Director John Thompson wrote, “The Census Bureau remains committed to reflecting the information needs of our changing society.” Census forms do change. For example, [new questions on race and ethnicity](https://www.census.gov/library/stories/2021/08/improved-race-ethnicity-measures-reveal-united-states-population-much-more-multiracial.html) in the 2020 Census have led to a more accurate understanding of US demographics. We can hope that the 2030 Census will be more inclusive and accurate in all respects. "
   ]
  },
  {
   "cell_type": "markdown",
   "metadata": {},
   "source": [
    "In what follows, we will use the data provided by the Census keeping in mind the issues described above. We will use the term \"male\" to mean an individual for whom \"Male\" (`SEX` code 1) was selected on the Census form. We will use \"female\" to mean an individual for whom \"Female\" (`SEX`code 2) was selected. "
   ]
  },
  {
   "cell_type": "markdown",
   "metadata": {},
   "source": [
    "## Overall Proportions\n",
    "We will now begin looking at sex ratios in 2019. First, let's look at all the age groups together. Remember that this means looking at the rows where the \"age\" is coded 999. The table `all_ages` contains this information. There are three rows: one for the total population, one for males, and one for females."
   ]
  },
  {
   "cell_type": "code",
   "execution_count": 4,
   "metadata": {},
   "outputs": [
    {
     "data": {
      "text/html": [
       "<table border=\"1\" class=\"dataframe\">\n",
       "    <thead>\n",
       "        <tr>\n",
       "            <th>SEX</th> <th>AGE</th> <th>2019</th>\n",
       "        </tr>\n",
       "    </thead>\n",
       "    <tbody>\n",
       "        <tr>\n",
       "            <td>0   </td> <td>999 </td> <td>328239523</td>\n",
       "        </tr>\n",
       "        <tr>\n",
       "            <td>1   </td> <td>999 </td> <td>161657324</td>\n",
       "        </tr>\n",
       "        <tr>\n",
       "            <td>2   </td> <td>999 </td> <td>166582199</td>\n",
       "        </tr>\n",
       "    </tbody>\n",
       "</table>"
      ],
      "text/plain": [
       "SEX  | AGE  | 2019\n",
       "0    | 999  | 328239523\n",
       "1    | 999  | 161657324\n",
       "2    | 999  | 166582199"
      ]
     },
     "execution_count": 4,
     "metadata": {},
     "output_type": "execute_result"
    }
   ],
   "source": [
    "us_pop_2019 = us_pop.drop('2014')\n",
    "all_ages = us_pop_2019.where('AGE', are.equal_to(999))\n",
    "all_ages"
   ]
  },
  {
   "cell_type": "markdown",
   "metadata": {},
   "source": [
    "Row 0 of `all_ages` contains the total U.S. population in each of the two years. The United States had about 330 million people in 2019.\n",
    "\n",
    "Row 1 contains the counts for males and Row 2 for females. Compare these two rows to see that in 2019, there were more females than males in the United States. \n",
    "\n",
    "The population counts in Row 1 and Row 2 add up to the total population in Row 0. \n",
    "\n",
    "For comparability with other quantities, we will need to convert these counts to percents out of the total population. Let's access the total for 2019 and name it. Then, we'll show a population table with a proportion column. Consistent with our earlier observation that there were more females than males, 50.75% of the population in 2019 was female and about 49.25% was male. "
   ]
  },
  {
   "cell_type": "code",
   "execution_count": 5,
   "metadata": {},
   "outputs": [
    {
     "data": {
      "text/html": [
       "<table border=\"1\" class=\"dataframe\">\n",
       "    <thead>\n",
       "        <tr>\n",
       "            <th>SEX</th> <th>AGE</th> <th>2019</th> <th>Proportion</th>\n",
       "        </tr>\n",
       "    </thead>\n",
       "    <tbody>\n",
       "        <tr>\n",
       "            <td>0   </td> <td>999 </td> <td>328239523</td> <td>100.00%   </td>\n",
       "        </tr>\n",
       "        <tr>\n",
       "            <td>1   </td> <td>999 </td> <td>161657324</td> <td>49.25%    </td>\n",
       "        </tr>\n",
       "        <tr>\n",
       "            <td>2   </td> <td>999 </td> <td>166582199</td> <td>50.75%    </td>\n",
       "        </tr>\n",
       "    </tbody>\n",
       "</table>"
      ],
      "text/plain": [
       "SEX  | AGE  | 2019      | Proportion\n",
       "0    | 999  | 328239523 | 100.00%\n",
       "1    | 999  | 161657324 | 49.25%\n",
       "2    | 999  | 166582199 | 50.75%"
      ]
     },
     "execution_count": 5,
     "metadata": {},
     "output_type": "execute_result"
    }
   ],
   "source": [
    "pop_2019 = all_ages.column('2019').item(0)\n",
    "all_ages.with_column(\n",
    "    'Proportion', all_ages.column('2019')/pop_2019\n",
    ").set_format('Proportion', PercentFormatter)"
   ]
  },
  {
   "cell_type": "markdown",
   "metadata": {},
   "source": [
    "## Proportions Among Infants"
   ]
  },
  {
   "cell_type": "markdown",
   "metadata": {},
   "source": [
    "When we look at infants, however, the opposite is true. Let's define infants to be babies who have not yet completed one year, represented in the rows corresponding to `AGE` 0. Here are their numbers in the population. You can see that male infants outnumbered female infants."
   ]
  },
  {
   "cell_type": "code",
   "execution_count": 6,
   "metadata": {},
   "outputs": [
    {
     "data": {
      "text/html": [
       "<table border=\"1\" class=\"dataframe\">\n",
       "    <thead>\n",
       "        <tr>\n",
       "            <th>SEX</th> <th>AGE</th> <th>2019</th>\n",
       "        </tr>\n",
       "    </thead>\n",
       "    <tbody>\n",
       "        <tr>\n",
       "            <td>0   </td> <td>0   </td> <td>3783052</td>\n",
       "        </tr>\n",
       "        <tr>\n",
       "            <td>1   </td> <td>0   </td> <td>1935117</td>\n",
       "        </tr>\n",
       "        <tr>\n",
       "            <td>2   </td> <td>0   </td> <td>1847935</td>\n",
       "        </tr>\n",
       "    </tbody>\n",
       "</table>"
      ],
      "text/plain": [
       "SEX  | AGE  | 2019\n",
       "0    | 0    | 3783052\n",
       "1    | 0    | 1935117\n",
       "2    | 0    | 1847935"
      ]
     },
     "execution_count": 6,
     "metadata": {},
     "output_type": "execute_result"
    }
   ],
   "source": [
    "infants = us_pop_2019.where('AGE', are.equal_to(0))\n",
    "infants"
   ]
  },
  {
   "cell_type": "markdown",
   "metadata": {},
   "source": [
    "As before, we can convert these counts to percents out of the total numbers of infants. The resulting table shows that in 2019, just over 51% of infants in the U.S. were male. "
   ]
  },
  {
   "cell_type": "code",
   "execution_count": 7,
   "metadata": {},
   "outputs": [
    {
     "data": {
      "text/html": [
       "<table border=\"1\" class=\"dataframe\">\n",
       "    <thead>\n",
       "        <tr>\n",
       "            <th>SEX</th> <th>AGE</th> <th>2019</th> <th>Proportion</th>\n",
       "        </tr>\n",
       "    </thead>\n",
       "    <tbody>\n",
       "        <tr>\n",
       "            <td>0   </td> <td>0   </td> <td>3783052</td> <td>100.00%   </td>\n",
       "        </tr>\n",
       "        <tr>\n",
       "            <td>1   </td> <td>0   </td> <td>1935117</td> <td>51.15%    </td>\n",
       "        </tr>\n",
       "        <tr>\n",
       "            <td>2   </td> <td>0   </td> <td>1847935</td> <td>48.85%    </td>\n",
       "        </tr>\n",
       "    </tbody>\n",
       "</table>"
      ],
      "text/plain": [
       "SEX  | AGE  | 2019    | Proportion\n",
       "0    | 0    | 3783052 | 100.00%\n",
       "1    | 0    | 1935117 | 51.15%\n",
       "2    | 0    | 1847935 | 48.85%"
      ]
     },
     "execution_count": 7,
     "metadata": {},
     "output_type": "execute_result"
    }
   ],
   "source": [
    "infants_2019 = infants.column('2019').item(0)\n",
    "infants.with_column(\n",
    "    'Proportion', infants.column('2019')/infants_2019\n",
    ").set_format('Proportion', PercentFormatter)"
   ]
  },
  {
   "cell_type": "markdown",
   "metadata": {},
   "source": [
    "In fact, it has long been observed that the proportion of males among newborns is slightly more than 1/2. The reason for this is not thoroughly understood, and [scientists are still working on it](http://www.npr.org/sections/health-shots/2015/03/30/396384911/why-are-more-baby-boys-born-than-girls)."
   ]
  },
  {
   "cell_type": "markdown",
   "metadata": {},
   "source": [
    "## Sex Ratio at Each Age "
   ]
  },
  {
   "cell_type": "markdown",
   "metadata": {},
   "source": [
    "We have seen that while there are more male infants than female, there are more females than males in the population overall. That means the split between sexes must vary across age groups.\n",
    "\n",
    "To study this variation, we will separate out the data for the females and the males, and eliminate the row where all the ages are aggregated and `AGE` is coded as 999.\n",
    "\n",
    "The tables `females` and `males` contain the data for each the two sex codes."
   ]
  },
  {
   "cell_type": "code",
   "execution_count": 8,
   "metadata": {},
   "outputs": [
    {
     "data": {
      "text/html": [
       "<table border=\"1\" class=\"dataframe\">\n",
       "    <thead>\n",
       "        <tr>\n",
       "            <th>SEX</th> <th>AGE</th> <th>2019</th>\n",
       "        </tr>\n",
       "    </thead>\n",
       "    <tbody>\n",
       "        <tr>\n",
       "            <td>2   </td> <td>0   </td> <td>1847935</td>\n",
       "        </tr>\n",
       "        <tr>\n",
       "            <td>2   </td> <td>1   </td> <td>1871014</td>\n",
       "        </tr>\n",
       "        <tr>\n",
       "            <td>2   </td> <td>2   </td> <td>1916500</td>\n",
       "        </tr>\n",
       "        <tr>\n",
       "            <td>2   </td> <td>3   </td> <td>1955655</td>\n",
       "        </tr>\n",
       "        <tr>\n",
       "            <td>2   </td> <td>4   </td> <td>1976372</td>\n",
       "        </tr>\n",
       "        <tr>\n",
       "            <td>2   </td> <td>5   </td> <td>1967081</td>\n",
       "        </tr>\n",
       "        <tr>\n",
       "            <td>2   </td> <td>6   </td> <td>1964271</td>\n",
       "        </tr>\n",
       "        <tr>\n",
       "            <td>2   </td> <td>7   </td> <td>1966584</td>\n",
       "        </tr>\n",
       "        <tr>\n",
       "            <td>2   </td> <td>8   </td> <td>1986471</td>\n",
       "        </tr>\n",
       "        <tr>\n",
       "            <td>2   </td> <td>9   </td> <td>1988726</td>\n",
       "        </tr>\n",
       "    </tbody>\n",
       "</table>\n",
       "<p>... (91 rows omitted)</p>"
      ],
      "text/plain": [
       "SEX  | AGE  | 2019\n",
       "2    | 0    | 1847935\n",
       "2    | 1    | 1871014\n",
       "2    | 2    | 1916500\n",
       "2    | 3    | 1955655\n",
       "2    | 4    | 1976372\n",
       "2    | 5    | 1967081\n",
       "2    | 6    | 1964271\n",
       "2    | 7    | 1966584\n",
       "2    | 8    | 1986471\n",
       "2    | 9    | 1988726\n",
       "... (91 rows omitted)"
      ]
     },
     "execution_count": 8,
     "metadata": {},
     "output_type": "execute_result"
    }
   ],
   "source": [
    "females_all_rows = us_pop_2019.where('SEX', are.equal_to(2))\n",
    "females = females_all_rows.where('AGE', are.not_equal_to(999))\n",
    "females"
   ]
  },
  {
   "cell_type": "code",
   "execution_count": 9,
   "metadata": {},
   "outputs": [
    {
     "data": {
      "text/html": [
       "<table border=\"1\" class=\"dataframe\">\n",
       "    <thead>\n",
       "        <tr>\n",
       "            <th>SEX</th> <th>AGE</th> <th>2019</th>\n",
       "        </tr>\n",
       "    </thead>\n",
       "    <tbody>\n",
       "        <tr>\n",
       "            <td>1   </td> <td>0   </td> <td>1935117</td>\n",
       "        </tr>\n",
       "        <tr>\n",
       "            <td>1   </td> <td>1   </td> <td>1958585</td>\n",
       "        </tr>\n",
       "        <tr>\n",
       "            <td>1   </td> <td>2   </td> <td>2005544</td>\n",
       "        </tr>\n",
       "        <tr>\n",
       "            <td>1   </td> <td>3   </td> <td>2043010</td>\n",
       "        </tr>\n",
       "        <tr>\n",
       "            <td>1   </td> <td>4   </td> <td>2066951</td>\n",
       "        </tr>\n",
       "        <tr>\n",
       "            <td>1   </td> <td>5   </td> <td>2061200</td>\n",
       "        </tr>\n",
       "        <tr>\n",
       "            <td>1   </td> <td>6   </td> <td>2052956</td>\n",
       "        </tr>\n",
       "        <tr>\n",
       "            <td>1   </td> <td>7   </td> <td>2055735</td>\n",
       "        </tr>\n",
       "        <tr>\n",
       "            <td>1   </td> <td>8   </td> <td>2079723</td>\n",
       "        </tr>\n",
       "        <tr>\n",
       "            <td>1   </td> <td>9   </td> <td>2073148</td>\n",
       "        </tr>\n",
       "    </tbody>\n",
       "</table>\n",
       "<p>... (91 rows omitted)</p>"
      ],
      "text/plain": [
       "SEX  | AGE  | 2019\n",
       "1    | 0    | 1935117\n",
       "1    | 1    | 1958585\n",
       "1    | 2    | 2005544\n",
       "1    | 3    | 2043010\n",
       "1    | 4    | 2066951\n",
       "1    | 5    | 2061200\n",
       "1    | 6    | 2052956\n",
       "1    | 7    | 2055735\n",
       "1    | 8    | 2079723\n",
       "1    | 9    | 2073148\n",
       "... (91 rows omitted)"
      ]
     },
     "execution_count": 9,
     "metadata": {},
     "output_type": "execute_result"
    }
   ],
   "source": [
    "males_all_rows = us_pop_2019.where('SEX', are.equal_to(1))\n",
    "males = males_all_rows.where('AGE', are.not_equal_to(999))\n",
    "males"
   ]
  },
  {
   "cell_type": "markdown",
   "metadata": {},
   "source": [
    "The plan now is to compare the number of females and the number of males at each age, for each of the two years. Array and Table methods give us straightforward ways to do this. Both these tables have one row for each age."
   ]
  },
  {
   "cell_type": "code",
   "execution_count": 10,
   "metadata": {},
   "outputs": [
    {
     "data": {
      "text/plain": [
       "array([  0,   1,   2,   3,   4,   5,   6,   7,   8,   9,  10,  11,  12,\n",
       "        13,  14,  15,  16,  17,  18,  19,  20,  21,  22,  23,  24,  25,\n",
       "        26,  27,  28,  29,  30,  31,  32,  33,  34,  35,  36,  37,  38,\n",
       "        39,  40,  41,  42,  43,  44,  45,  46,  47,  48,  49,  50,  51,\n",
       "        52,  53,  54,  55,  56,  57,  58,  59,  60,  61,  62,  63,  64,\n",
       "        65,  66,  67,  68,  69,  70,  71,  72,  73,  74,  75,  76,  77,\n",
       "        78,  79,  80,  81,  82,  83,  84,  85,  86,  87,  88,  89,  90,\n",
       "        91,  92,  93,  94,  95,  96,  97,  98,  99, 100])"
      ]
     },
     "execution_count": 10,
     "metadata": {},
     "output_type": "execute_result"
    }
   ],
   "source": [
    "males.column('AGE')"
   ]
  },
  {
   "cell_type": "code",
   "execution_count": 11,
   "metadata": {},
   "outputs": [
    {
     "data": {
      "text/plain": [
       "array([  0,   1,   2,   3,   4,   5,   6,   7,   8,   9,  10,  11,  12,\n",
       "        13,  14,  15,  16,  17,  18,  19,  20,  21,  22,  23,  24,  25,\n",
       "        26,  27,  28,  29,  30,  31,  32,  33,  34,  35,  36,  37,  38,\n",
       "        39,  40,  41,  42,  43,  44,  45,  46,  47,  48,  49,  50,  51,\n",
       "        52,  53,  54,  55,  56,  57,  58,  59,  60,  61,  62,  63,  64,\n",
       "        65,  66,  67,  68,  69,  70,  71,  72,  73,  74,  75,  76,  77,\n",
       "        78,  79,  80,  81,  82,  83,  84,  85,  86,  87,  88,  89,  90,\n",
       "        91,  92,  93,  94,  95,  96,  97,  98,  99, 100])"
      ]
     },
     "execution_count": 11,
     "metadata": {},
     "output_type": "execute_result"
    }
   ],
   "source": [
    "females.column('AGE')"
   ]
  },
  {
   "cell_type": "markdown",
   "metadata": {},
   "source": [
    "For any given age, we can get the Female:Male sex ratio by dividing the number of females by the number of males. \n",
    "\n",
    "To do this in one step, we can use `column` to extract the array of female counts and the corresponding array of male counts, and then simply divide one array by the other. Elementwise division will create an array of sex ratios for all the years."
   ]
  },
  {
   "cell_type": "code",
   "execution_count": 12,
   "metadata": {},
   "outputs": [
    {
     "data": {
      "text/html": [
       "<table border=\"1\" class=\"dataframe\">\n",
       "    <thead>\n",
       "        <tr>\n",
       "            <th>AGE</th> <th>2019 F:M RATIO</th>\n",
       "        </tr>\n",
       "    </thead>\n",
       "    <tbody>\n",
       "        <tr>\n",
       "            <td>0   </td> <td>0.954947      </td>\n",
       "        </tr>\n",
       "        <tr>\n",
       "            <td>1   </td> <td>0.955289      </td>\n",
       "        </tr>\n",
       "        <tr>\n",
       "            <td>2   </td> <td>0.955601      </td>\n",
       "        </tr>\n",
       "        <tr>\n",
       "            <td>3   </td> <td>0.957242      </td>\n",
       "        </tr>\n",
       "        <tr>\n",
       "            <td>4   </td> <td>0.956177      </td>\n",
       "        </tr>\n",
       "        <tr>\n",
       "            <td>5   </td> <td>0.954338      </td>\n",
       "        </tr>\n",
       "        <tr>\n",
       "            <td>6   </td> <td>0.956801      </td>\n",
       "        </tr>\n",
       "        <tr>\n",
       "            <td>7   </td> <td>0.956633      </td>\n",
       "        </tr>\n",
       "        <tr>\n",
       "            <td>8   </td> <td>0.955161      </td>\n",
       "        </tr>\n",
       "        <tr>\n",
       "            <td>9   </td> <td>0.959278      </td>\n",
       "        </tr>\n",
       "    </tbody>\n",
       "</table>\n",
       "<p>... (91 rows omitted)</p>"
      ],
      "text/plain": [
       "AGE  | 2019 F:M RATIO\n",
       "0    | 0.954947\n",
       "1    | 0.955289\n",
       "2    | 0.955601\n",
       "3    | 0.957242\n",
       "4    | 0.956177\n",
       "5    | 0.954338\n",
       "6    | 0.956801\n",
       "7    | 0.956633\n",
       "8    | 0.955161\n",
       "9    | 0.959278\n",
       "... (91 rows omitted)"
      ]
     },
     "execution_count": 12,
     "metadata": {},
     "output_type": "execute_result"
    }
   ],
   "source": [
    "ratios = Table().with_columns(\n",
    "    'AGE', females.column('AGE'),\n",
    "    '2019 F:M RATIO', females.column('2019')/males.column('2019')\n",
    ")\n",
    "ratios"
   ]
  },
  {
   "cell_type": "markdown",
   "metadata": {},
   "source": [
    "You can see from the display that the ratios are all around 0.96 for children aged nine or younger. When the Female:Male ratio is less than 1, there are fewer females than males. Thus we are seeing that there were fewer girls than boys in each of the age groups 0, 1, 2, and so on through 9. More precisely, in each of these age groups there were about 96 girls for every 100 boys."
   ]
  },
  {
   "cell_type": "markdown",
   "metadata": {},
   "source": [
    "Then how can the overall proportion of females in the population be higher than the males? \n",
    "\n",
    "Something quite different happens when we examine the other end of the age range. Here are the Female:Male ratios for people aged more than 75."
   ]
  },
  {
   "cell_type": "code",
   "execution_count": 13,
   "metadata": {},
   "outputs": [
    {
     "data": {
      "text/html": [
       "<table border=\"1\" class=\"dataframe\">\n",
       "    <thead>\n",
       "        <tr>\n",
       "            <th>AGE</th> <th>2019 F:M RATIO</th>\n",
       "        </tr>\n",
       "    </thead>\n",
       "    <tbody>\n",
       "        <tr>\n",
       "            <td>76  </td> <td>1.21422       </td>\n",
       "        </tr>\n",
       "        <tr>\n",
       "            <td>77  </td> <td>1.23558       </td>\n",
       "        </tr>\n",
       "        <tr>\n",
       "            <td>78  </td> <td>1.26373       </td>\n",
       "        </tr>\n",
       "        <tr>\n",
       "            <td>79  </td> <td>1.28129       </td>\n",
       "        </tr>\n",
       "        <tr>\n",
       "            <td>80  </td> <td>1.29209       </td>\n",
       "        </tr>\n",
       "        <tr>\n",
       "            <td>81  </td> <td>1.32745       </td>\n",
       "        </tr>\n",
       "        <tr>\n",
       "            <td>82  </td> <td>1.36101       </td>\n",
       "        </tr>\n",
       "        <tr>\n",
       "            <td>83  </td> <td>1.39749       </td>\n",
       "        </tr>\n",
       "        <tr>\n",
       "            <td>84  </td> <td>1.44603       </td>\n",
       "        </tr>\n",
       "        <tr>\n",
       "            <td>85  </td> <td>1.48588       </td>\n",
       "        </tr>\n",
       "        <tr>\n",
       "            <td>86  </td> <td>1.53967       </td>\n",
       "        </tr>\n",
       "        <tr>\n",
       "            <td>87  </td> <td>1.59775       </td>\n",
       "        </tr>\n",
       "        <tr>\n",
       "            <td>88  </td> <td>1.66125       </td>\n",
       "        </tr>\n",
       "        <tr>\n",
       "            <td>89  </td> <td>1.73365       </td>\n",
       "        </tr>\n",
       "        <tr>\n",
       "            <td>90  </td> <td>1.80539       </td>\n",
       "        </tr>\n",
       "        <tr>\n",
       "            <td>91  </td> <td>1.90275       </td>\n",
       "        </tr>\n",
       "        <tr>\n",
       "            <td>92  </td> <td>1.99252       </td>\n",
       "        </tr>\n",
       "        <tr>\n",
       "            <td>93  </td> <td>2.10192       </td>\n",
       "        </tr>\n",
       "        <tr>\n",
       "            <td>94  </td> <td>2.2271        </td>\n",
       "        </tr>\n",
       "        <tr>\n",
       "            <td>95  </td> <td>2.34042       </td>\n",
       "        </tr>\n",
       "        <tr>\n",
       "            <td>96  </td> <td>2.41969       </td>\n",
       "        </tr>\n",
       "        <tr>\n",
       "            <td>97  </td> <td>2.5868        </td>\n",
       "        </tr>\n",
       "        <tr>\n",
       "            <td>98  </td> <td>2.65926       </td>\n",
       "        </tr>\n",
       "        <tr>\n",
       "            <td>99  </td> <td>2.91367       </td>\n",
       "        </tr>\n",
       "        <tr>\n",
       "            <td>100 </td> <td>3.27411       </td>\n",
       "        </tr>\n",
       "    </tbody>\n",
       "</table>"
      ],
      "text/plain": [
       "<IPython.core.display.HTML object>"
      ]
     },
     "metadata": {},
     "output_type": "display_data"
    }
   ],
   "source": [
    "ratios.where('AGE', are.above(75)).show()"
   ]
  },
  {
   "cell_type": "markdown",
   "metadata": {},
   "source": [
    "Not only are all of these ratios greater than 1, signifying more women than men in all of these age groups, many of them are considerably greater than 1. \n",
    "\n",
    "- At ages 92 and 93 the ratios are close to 2, meaning that there were about twice as many women as men at those ages in 2019.\n",
    "- At ages 99 there were about 3 times as many women as men. \n",
    "\n",
    "If you are wondering how many people there were at these advanced ages, you can use Python to find out:"
   ]
  },
  {
   "cell_type": "code",
   "execution_count": 14,
   "metadata": {},
   "outputs": [
    {
     "data": {
      "text/html": [
       "<table border=\"1\" class=\"dataframe\">\n",
       "    <thead>\n",
       "        <tr>\n",
       "            <th>SEX</th> <th>AGE</th> <th>2019</th>\n",
       "        </tr>\n",
       "    </thead>\n",
       "    <tbody>\n",
       "        <tr>\n",
       "            <td>1   </td> <td>92  </td> <td>131684</td>\n",
       "        </tr>\n",
       "        <tr>\n",
       "            <td>1   </td> <td>93  </td> <td>103415</td>\n",
       "        </tr>\n",
       "        <tr>\n",
       "            <td>1   </td> <td>99  </td> <td>14596 </td>\n",
       "        </tr>\n",
       "    </tbody>\n",
       "</table>"
      ],
      "text/plain": [
       "SEX  | AGE  | 2019\n",
       "1    | 92   | 131684\n",
       "1    | 93   | 103415\n",
       "1    | 99   | 14596"
      ]
     },
     "execution_count": 14,
     "metadata": {},
     "output_type": "execute_result"
    }
   ],
   "source": [
    "males.where('AGE', are.contained_in(make_array(92, 93, 99)))"
   ]
  },
  {
   "cell_type": "code",
   "execution_count": 15,
   "metadata": {},
   "outputs": [
    {
     "data": {
      "text/html": [
       "<table border=\"1\" class=\"dataframe\">\n",
       "    <thead>\n",
       "        <tr>\n",
       "            <th>SEX</th> <th>AGE</th> <th>2019</th>\n",
       "        </tr>\n",
       "    </thead>\n",
       "    <tbody>\n",
       "        <tr>\n",
       "            <td>2   </td> <td>92  </td> <td>262383</td>\n",
       "        </tr>\n",
       "        <tr>\n",
       "            <td>2   </td> <td>93  </td> <td>217370</td>\n",
       "        </tr>\n",
       "        <tr>\n",
       "            <td>2   </td> <td>99  </td> <td>42528 </td>\n",
       "        </tr>\n",
       "    </tbody>\n",
       "</table>"
      ],
      "text/plain": [
       "SEX  | AGE  | 2019\n",
       "2    | 92   | 262383\n",
       "2    | 93   | 217370\n",
       "2    | 99   | 42528"
      ]
     },
     "execution_count": 15,
     "metadata": {},
     "output_type": "execute_result"
    }
   ],
   "source": [
    "females.where('AGE', are.contained_in(make_array(92, 93, 99)))"
   ]
  },
  {
   "cell_type": "markdown",
   "metadata": {},
   "source": [
    "The graph below shows sex ratios plotted against age. The blue curve shows the 2019 ratios by age.\n",
    "\n",
    "The ratios are almost 1 (signifying close to equal numbers of males and females) for ages 0 through 60. But they start shooting up dramatically (more females than males) starting in the 65 to 70 range.\n",
    "\n",
    "That females outnumber males in the U.S. is partly due to the marked imbalance in favor of women among senior citizens."
   ]
  },
  {
   "cell_type": "code",
   "execution_count": 16,
   "metadata": {},
   "outputs": [
    {
     "data": {
      "image/png": "[encoded data removed]",
      "text/plain": [
       "<Figure size 600x600 with 1 Axes>"
      ]
     },
     "metadata": {},
     "output_type": "display_data"
    }
   ],
   "source": [
    "ratios.plot('AGE')"
   ]
  }
 ],
 "metadata": {
  "anaconda-cloud": {},
  "kernelspec": {
   "display_name": "Python 3.10.5 64-bit",
   "language": "python",
   "name": "python3"
  },
  "language_info": {
   "codemirror_mode": {
    "name": "ipython",
    "version": 3
   },
   "file_extension": ".py",
   "mimetype": "text/x-python",
   "name": "python",
   "nbconvert_exporter": "python",
   "pygments_lexer": "ipython3",
   "version": "3.10.5"
  },
  "vscode": {
   "interpreter": {
    "hash": "afb734500600fd355917ca529030176ea0ca205570884b88f2f6f7d791fd3fbe"
   }
  }
 },
 "nbformat": 4,
 "nbformat_minor": 2
}
